{
 "cells": [
  {
   "cell_type": "markdown",
   "metadata": {},
   "source": [
    "# Assignment 4\n",
    "\n",
    "This assignment covers material on numerical integration.\n",
    "\n",
    "The breakdown of the marks is as follows:\n",
    "\n",
    "Question 0 - [1 mark]  \n",
    "Question 1 - [4 marks]  \n",
    "Questino 2 - [5 marks]  \n",
    "Question 3 - [5 marks]  \n",
    "Question 4 - [5 marks]  \n",
    "Question 5 - [5 marks]  \n",
    "Question 6 - [5 marks]  "
   ]
  },
  {
   "cell_type": "markdown",
   "metadata": {},
   "source": [
    "# Question 0\n",
    "\n",
    "You should have saved this notebook to your ACM20030-Assignments folder. Now:\n",
    "- commit the notebook to your local repository\n",
    "- push the changes to the GitHub"
   ]
  },
  {
   "cell_type": "code",
   "execution_count": 1,
   "metadata": {},
   "outputs": [],
   "source": [
    "import numpy as np\n",
    "import matplotlib.pyplot as plt\n",
    "from scipy import integrate"
   ]
  },
  {
   "cell_type": "code",
   "execution_count": 2,
   "metadata": {},
   "outputs": [],
   "source": [
    "# The below commands make the font and image size bigger\n",
    "plt.rcParams.update({'font.size': 22})\n",
    "plt.rcParams[\"figure.figsize\"] = (15,10)"
   ]
  },
  {
   "cell_type": "markdown",
   "metadata": {},
   "source": [
    "# Question 1"
   ]
  },
  {
   "cell_type": "markdown",
   "metadata": {},
   "source": [
    "In this question you will be asked to evaluate definite integrals in the form:\n",
    "\n",
    "$$ \\int_a^b f(x)\\, dx$$ \n",
    "\n",
    "using Simpson's rule. You can copy code from the [examples repository](https://github.com/nielsw2/ACM20030-Examples) if you wish but if you do, remove all the plotting functionality. Do not use SciPy or any other library to evaluate the integrals, unless explicitly asked to do so.\n",
    "\n",
    "First write a function that integrates another function using Simpson's rule. This function will get used in multiple questions in this assignment."
   ]
  },
  {
   "cell_type": "code",
   "execution_count": 3,
   "metadata": {},
   "outputs": [],
   "source": [
    "#I got this from examples repository and removed plotting functions\n",
    "def SimpsonsIntegrate(f, a, b, N, plotMethod=False):\n",
    "    dx = (b-a)/N\n",
    "    xi = a\n",
    "    area = 0\n",
    "    i = 0\n",
    "    while i < N:\n",
    "        x1 = xi\n",
    "        area += dx/6*(f(xi) + 4*f((2*xi+dx)/2) + f(xi+dx))\n",
    "        \n",
    "        xi += dx\n",
    "        i += 1\n",
    "        \n",
    "    return area"
   ]
  },
  {
   "cell_type": "markdown",
   "metadata": {},
   "source": [
    "## Q1 a\n",
    "\n",
    "Evaluate $$ \\frac{1}{\\sqrt{\\pi}}\\int^{15}_{-15} x^2 e^{-x^2}\\, dx$$\n",
    "\n",
    "Use enough strips so that the result is accurate to a relative error of of at least 1e-6. Hint: to within machine precision the above integral evaluates to  1/2 ."
   ]
  },
  {
   "cell_type": "code",
   "execution_count": 4,
   "metadata": {},
   "outputs": [],
   "source": [
    "#defining the function\n",
    "def f(x):\n",
    "    return (1/(np.sqrt(np.pi)))*(x**2)*(np.exp(-x**2))"
   ]
  },
  {
   "cell_type": "code",
   "execution_count": 5,
   "metadata": {},
   "outputs": [
    {
     "name": "stdout",
     "output_type": "stream",
     "text": [
      "0.5000000000222579\n"
     ]
    }
   ],
   "source": [
    "sol= SimpsonsIntegrate(f, -15, 15, 50)\n",
    "print(sol)"
   ]
  },
  {
   "cell_type": "markdown",
   "metadata": {},
   "source": [
    "## Q1 b\n",
    "\n",
    "Evaluate\n",
    "\n",
    "$$\\int^{50}_{-50} \\frac{1}{\\cosh x}\\,dx $$\n",
    "\n",
    "Use enough strips so that the result is accurate to a relative error of  of at least `1e-6`. Hint: to within machine precision the above integral evaluates to $\\pi$."
   ]
  },
  {
   "cell_type": "code",
   "execution_count": 6,
   "metadata": {
    "scrolled": true
   },
   "outputs": [],
   "source": [
    "def g(x):\n",
    "    return 1/(np.cosh(x))"
   ]
  },
  {
   "cell_type": "code",
   "execution_count": 7,
   "metadata": {},
   "outputs": [
    {
     "name": "stdout",
     "output_type": "stream",
     "text": [
      "3.1415926535091985\n"
     ]
    }
   ],
   "source": [
    "sol2= SimpsonsIntegrate(g, -50, 50, 250)\n",
    "print(sol2)"
   ]
  },
  {
   "cell_type": "markdown",
   "metadata": {},
   "source": [
    "## Q1 c\n",
    "\n",
    "Use SciPy's `integrate.quad()` function to evaluate the integrals in Q1a and Q1b"
   ]
  },
  {
   "cell_type": "code",
   "execution_count": 8,
   "metadata": {},
   "outputs": [
    {
     "data": {
      "text/plain": [
       "(0.5, 2.9448891405287997e-12)"
      ]
     },
     "execution_count": 8,
     "metadata": {},
     "output_type": "execute_result"
    }
   ],
   "source": [
    "#three arguements(function, boundary1,boundary2)\n",
    "integrate.quad(f,-15,15)"
   ]
  },
  {
   "cell_type": "code",
   "execution_count": 9,
   "metadata": {},
   "outputs": [
    {
     "data": {
      "text/plain": [
       "(3.141592653589793, 5.538383327188703e-11)"
      ]
     },
     "execution_count": 9,
     "metadata": {},
     "output_type": "execute_result"
    }
   ],
   "source": [
    "integrate.quad(g,-50,50)"
   ]
  },
  {
   "cell_type": "markdown",
   "metadata": {},
   "source": [
    "Now commit your notebook to your git repository and push the changes to GitHub.\n",
    "\n",
    "# Question 2 - improper integrals\n",
    "\n",
    "In the lectures we looked at numerically evaluating indefinite integrals of the form\n",
    "\n",
    "$$ \\int^b_a f(x)\\, dx$$ where $a,b$ are finite. What about improper integrals where either $a$, $b$ or both are infinite? The methods we know so far cannot immediately be applied to these cases.\n",
    "\n",
    "One method is to transform the integral using the result\n",
    "\n",
    "$$ \\int_a^b f(x)\\, dx = \\int^{1/a}_{1/b} t^{-2} f(t^{-1})\\, dt$$\n",
    "\n",
    "which holds so long as $a,b>0$."
   ]
  },
  {
   "cell_type": "markdown",
   "metadata": {},
   "source": [
    "## Q2 a\n",
    "\n",
    "Using the above result numerically evaluate the following integral\n",
    "\n",
    "$$ \\int^\\infty_1 \\frac{\\log(x)}{x^3}\\,dx $$\n",
    "\n",
    "using Simpson's rule. Use 100 strips to evaluate the integral.\n",
    "\n",
    "Hint: you will have to use an `if` statement inside your transformed function for to deal with $t=0$. For this case it is useful to note that $\\lim_{t\\rightarrow0} t \\log(1/t) = 0$."
   ]
  },
  {
   "cell_type": "code",
   "execution_count": 10,
   "metadata": {},
   "outputs": [],
   "source": [
    "def h(t):\n",
    "    if t<1e-12:\n",
    "        return 0\n",
    "    else:\n",
    "        return (-np.log(1/t)*(t))"
   ]
  },
  {
   "cell_type": "code",
   "execution_count": 11,
   "metadata": {},
   "outputs": [
    {
     "name": "stdout",
     "output_type": "stream",
     "text": [
      "0.24999807459463713\n"
     ]
    }
   ],
   "source": [
    "sol3= SimpsonsIntegrate(h, 1, 0, 100)\n",
    "print(sol3)"
   ]
  },
  {
   "cell_type": "markdown",
   "metadata": {},
   "source": [
    "## Q2 b\n",
    "\n",
    "Numerically evaluate\n",
    "\n",
    "$$ \\int^\\infty_0 \\frac{1}{(x+1)^3}\\,dx$$\n",
    "\n",
    "using Simpson's rule.\n",
    "\n",
    "Hint: break the integral into two integrals, one with a finite domain and one with an infinite domain. In each domain use 100 strips to evalute the integral. Check your answer against the analytic result."
   ]
  },
  {
   "cell_type": "code",
   "execution_count": 12,
   "metadata": {},
   "outputs": [],
   "source": [
    "#breaking up the fucntion to integrate it over 2 boundaries\n",
    "def z1(x):\n",
    "    return 1/(x+1)**3\n",
    "\n",
    "def z2(t):\n",
    "    return (-1/(1/t+1)**3)*(1/(t**2))"
   ]
  },
  {
   "cell_type": "code",
   "execution_count": 13,
   "metadata": {},
   "outputs": [
    {
     "name": "stdout",
     "output_type": "stream",
     "text": [
      "0.5000000000807214\n"
     ]
    }
   ],
   "source": [
    "sol4= SimpsonsIntegrate(z1, 0, 1, 100)\n",
    "sol41= SimpsonsIntegrate(z2, 1, 0, 100)\n",
    "#Adding two areas in order to get full area\n",
    "print(sol4+sol41)"
   ]
  },
  {
   "cell_type": "markdown",
   "metadata": {},
   "source": [
    "Now commit your notebook to your git repository and push the changes to GitHub.\n",
    "\n",
    "# Question 3 - Boole's rule\n",
    "\n",
    "Fitting the integrand to a quintic polynomial results in Boole's rule for integration. In the lecture the formula for Boole's rule was given as\n",
    "\n",
    "$$ \\int^b_a f(x)\\,dx \\simeq \\frac{2 \\Delta x}{45}\\left(7f_0 + 32 f_1 + 12 f_2 +32f_3 + 7 f_4\\right) $$\n",
    "\n",
    "where $\\Delta x = (b-a)/4$, and $f_i = f(a + i\\Delta x)$."
   ]
  },
  {
   "cell_type": "markdown",
   "metadata": {},
   "source": [
    "## Q3 a\n",
    "\n",
    "Write a function that numerically integrates another function using Boole's rule. Use the following function definition:"
   ]
  },
  {
   "cell_type": "code",
   "execution_count": 38,
   "metadata": {},
   "outputs": [],
   "source": [
    "def Booles(f, a, b, N):\n",
    "    area = 0\n",
    "    delx = (b-a)/(4*N)\n",
    "    dela = (b-a)/N\n",
    "    #Divding here by 4 in order for it to go over 100 strips not 400 strips\n",
    "    for num in range(0,N):\n",
    "        area1 = a+num*dela\n",
    "        func =[0,0,0,0,0]\n",
    "        for n in range(0,5):\n",
    "            func[n]=f(area1+(n*delx))\n",
    "        area += (2*delx/45)*(7*func[0] + 32*func[1] + 12*func[2]+32*func[3]+7*func[4])\n",
    "            \n",
    "        #Use Booles Rule here for area\n",
    "        #Adjusting Definition for Booles Rule\n",
    "    return area"
   ]
  },
  {
   "cell_type": "markdown",
   "metadata": {},
   "source": [
    "Test your function by evaluating the following using 100 strips.\n",
    "\n",
    "$$ \\int_0^\\pi \\sin(x)\\,dx $$"
   ]
  },
  {
   "cell_type": "code",
   "execution_count": 39,
   "metadata": {},
   "outputs": [],
   "source": [
    "def s(x):\n",
    "    return np.sin(x)"
   ]
  },
  {
   "cell_type": "code",
   "execution_count": 40,
   "metadata": {},
   "outputs": [
    {
     "name": "stdout",
     "output_type": "stream",
     "text": [
      "1.999999999999998\n"
     ]
    }
   ],
   "source": [
    "ans = Booles(s,0,np.pi,100)\n",
    "print(ans)"
   ]
  },
  {
   "cell_type": "markdown",
   "metadata": {},
   "source": [
    "## Q3 b\n",
    "\n",
    "For Boole's rule show that the global error scales as $\\Delta x^6$. The below plot shows a $\\Delta x^6$ reference line."
   ]
  },
  {
   "cell_type": "code",
   "execution_count": 17,
   "metadata": {},
   "outputs": [
    {
     "name": "stdout",
     "output_type": "stream",
     "text": [
      "2.0\n"
     ]
    }
   ],
   "source": [
    "err=(np.cos(0)-np.cos(np.pi))\n",
    "print(err)"
   ]
  },
  {
   "cell_type": "code",
   "execution_count": 62,
   "metadata": {},
   "outputs": [],
   "source": [
    "imax = 4\n",
    "errBooles = np.empty((imax,2))\n",
    "i = 0\n",
    "N = 4\n",
    "while i < imax:\n",
    "    errBooles[i,0] = N\n",
    "    errBooles[i,1] = np.abs((Booles(s, 0, np.pi, N)) - 2)\n",
    "    N *= 2\n",
    "    i += 1   "
   ]
  },
  {
   "cell_type": "code",
   "execution_count": 63,
   "metadata": {},
   "outputs": [
    {
     "data": {
      "text/plain": [
       "<matplotlib.legend.Legend at 0x7fd62521eeb0>"
      ]
     },
     "execution_count": 63,
     "metadata": {},
     "output_type": "execute_result"
    },
    {
     "data": {
      "image/png": "[encoded data removed]",
      "text/plain": [
       "<Figure size 1080x720 with 1 Axes>"
      ]
     },
     "metadata": {
      "needs_background": "light"
     },
     "output_type": "display_data"
    }
   ],
   "source": [
    "x = np.linspace(10,48,100)\n",
    "y = x**-6\n",
    "error1=(np.cos(0)-np.cos(np.pi))-Booles(s,0,np.pi,100)\n",
    "\n",
    "plt.yscale('log')\n",
    "plt.xscale('log')\n",
    "plt.grid(True)\n",
    "plt.plot(x,y);\n",
    "plt.scatter(errBooles[:,0], errBooles[:,1])\n",
    "plt.xlabel('N')\n",
    "plt.ylabel('Error')\n",
    "plt.legend(['$\\Delta x^6$','Booles'])"
   ]
  },
  {
   "cell_type": "markdown",
   "metadata": {},
   "source": [
    "Now commit your notebook to your git repository and push the changes to GitHub.\n",
    "\n",
    "# Question 4 - integrand with a singularity\n",
    "\n",
    "The techniques developed in the lecture require the integrand to be continuous and bounded. What happens if there is a singularity in the integrand? In general these can be difficult to deal with (though some more generic methods exist - see, e.g., [Tanh-sinh quadrature](https://en.wikipedia.org/wiki/Tanh-sinh_quadrature)).\n",
    "\n",
    "In this example we will look at an explicit example that can be dealt with by a change of variables. Consider the identity:\n",
    "\n",
    "$$ \\int_0^1 \\frac{f(x)}{x^\\alpha}\\, dx = \\frac{1}{\\alpha} \\int_0^1 f(t^{1/\\alpha}) t^{(1-2\\alpha)/\\alpha}\\,dt$$\n",
    "\n",
    "which is achived by changing variables using $t = x^\\alpha$. This identity holds when $0 < \\alpha < 1$ and $f(x)$ is continous on $[0,1]$."
   ]
  },
  {
   "cell_type": "markdown",
   "metadata": {},
   "source": [
    "Let\n",
    "$$I = \\int^1_0 \\frac{\\cos(10x)}{x^{1/2}}\\,dx $$\n",
    "\n",
    "Plot the integrand in the range $[0,1]$, use a grid and label your axes."
   ]
  },
  {
   "cell_type": "code",
   "execution_count": null,
   "metadata": {},
   "outputs": [],
   "source": [
    "def I(x):\n",
    "    return np.cos(10*x)/x**(1/2)"
   ]
  },
  {
   "cell_type": "code",
   "execution_count": null,
   "metadata": {},
   "outputs": [],
   "source": [
    "x4 = np.linspace(.01,1,200)\n",
    "y4 = I(x4)\n",
    "\n",
    "plt.plot(x4,y4)\n",
    "plt.grid(True)\n",
    "plt.xlabel('X')\n",
    "plt.ylabel('Y')\n",
    "plt.title('Function I')"
   ]
  },
  {
   "cell_type": "markdown",
   "metadata": {},
   "source": [
    "Define and plot the transformed integrand. For the plot use a grid and label your axes."
   ]
  },
  {
   "cell_type": "code",
   "execution_count": null,
   "metadata": {},
   "outputs": [],
   "source": [
    "#The edited function\n",
    "def It(t):\n",
    "    return 1/(1/2)*np.cos(10*t**2)*t**(0)"
   ]
  },
  {
   "cell_type": "code",
   "execution_count": null,
   "metadata": {},
   "outputs": [],
   "source": [
    "x5 = np.linspace(.01,1,200)\n",
    "y5 = It(x5)\n",
    "\n",
    "plt.plot(x5,y5)\n",
    "plt.grid(True)\n",
    "plt.xlabel('X')\n",
    "plt.ylabel('Y')\n",
    "plt.title('Function It')"
   ]
  },
  {
   "cell_type": "markdown",
   "metadata": {},
   "source": [
    "Numerically evaluate $I$ using Simpson's rule. Use 100 strips to do this."
   ]
  },
  {
   "cell_type": "code",
   "execution_count": null,
   "metadata": {},
   "outputs": [],
   "source": [
    "evalu1= SimpsonsIntegrate(It, 0, 1, 100)\n",
    "print(evalu1)"
   ]
  },
  {
   "cell_type": "markdown",
   "metadata": {},
   "source": [
    "Now commit your notebook to your git repository and push the changes to GitHub.\n",
    "\n",
    "# Question 5\n",
    "\n",
    "Write your own function to integrate the following data using Simpson's rule."
   ]
  },
  {
   "cell_type": "code",
   "execution_count": null,
   "metadata": {},
   "outputs": [],
   "source": [
    "x = np.linspace(0, np.pi, 101)\n",
    "dx = x[1]-x[0]\n",
    "y = np.sin(x)"
   ]
  },
  {
   "cell_type": "code",
   "execution_count": null,
   "metadata": {},
   "outputs": [],
   "source": [
    "def SimpsonsIntegrate5(dx, data):\n",
    "    # area = dx/3(f(a)+f(midpoint)+f(b))\n",
    "    #That is why first term goes from 0(first term) to -1(last term) in steps of 2\n",
    "    #Second term goes from 1 to the end in steps of 2 so it will always be f(a)+1\n",
    "    #Third term goes from 2 to end in steps of 2 so it will be after both f(a) and f(midpoint)\n",
    "    area = np.sum(dx/3*(data[0:-1:2] + 4*(data[1::2]) + data[2::2]))\n",
    "    #This way it goes f(a) would start at 0, f(m) would be 1 and f(b) would be 2 so it interpolates data\n",
    "    return area"
   ]
  },
  {
   "cell_type": "markdown",
   "metadata": {},
   "source": [
    "Integrate the data using your function"
   ]
  },
  {
   "cell_type": "code",
   "execution_count": null,
   "metadata": {
    "scrolled": true
   },
   "outputs": [],
   "source": [
    "print(SimpsonsIntegrate5(dx, y))"
   ]
  },
  {
   "cell_type": "markdown",
   "metadata": {},
   "source": [
    "Recall that Simpson's method needs and odd number of data points to work (giving an even number of strips). If you use an even number you will get a bad result. If you check the convergence rate in this case you will see it is not what is expected. Checking the convergence rate is an important test of an integration code."
   ]
  },
  {
   "cell_type": "markdown",
   "metadata": {},
   "source": [
    "Now commit your notebook to your git repository and push the changes to GitHub.\n",
    "\n",
    "# Question 6\n",
    "\n",
    "Evaluate the following integral using both Simpsons rule and an RK4 ODE method\n",
    "\n",
    "$$ \\int_0^5 \\sinh(x) (x-5)\\, dx $$\n",
    "\n",
    "Compare the results of the two methods and take sufficient strips/small enough step sizes to ensure the results agree to a relative accuracy of 1e-6."
   ]
  },
  {
   "cell_type": "code",
   "execution_count": null,
   "metadata": {},
   "outputs": [],
   "source": [
    "def f6(x,y):\n",
    "    return np.sinh(x)*(x-5)"
   ]
  },
  {
   "cell_type": "code",
   "execution_count": null,
   "metadata": {},
   "outputs": [],
   "source": [
    "x6 = np.linspace(-20, 20, 100)\n",
    "y6 = f6(x6,0)\n",
    "\n",
    "plt.plot(x6,y6)\n",
    "plt.grid(True)\n",
    "plt.xlabel('X')\n",
    "plt.ylabel('Y')\n",
    "#As we can see the graph below the line at x=0 at ultiple values"
   ]
  },
  {
   "cell_type": "code",
   "execution_count": null,
   "metadata": {},
   "outputs": [],
   "source": [
    "def RK4Step(f, dx, xi, yi):\n",
    "        k1 = dx*f(xi,yi)\n",
    "        k2 = dx*f(xi + 0.5*dx, yi + 0.5*k1)\n",
    "        k3 = dx*f(xi + 0.5*dx, yi + 0.5*k2)\n",
    "        k4 = dx*f(xi + dx, yi + k3)\n",
    "        \n",
    "        return yi + 1/6*(k1 + 2*k2 + 2*k3 + k4)"
   ]
  },
  {
   "cell_type": "code",
   "execution_count": null,
   "metadata": {},
   "outputs": [],
   "source": [
    "def RK4INT(f, dx, x0, y0, imax):   \n",
    "    xi = x0\n",
    "    yi = y0\n",
    "\n",
    "    steps = np.zeros((imax+1,2))\n",
    "    steps[0,0] = x0\n",
    "    steps[0,1] = y0\n",
    "    \n",
    "    i = 0\n",
    "    while i < imax:\n",
    "        yi = RK4Step(f, dx, xi, yi)\n",
    "        xi += dx\n",
    "        i  += 1\n",
    "    \n",
    "        steps[i, 0] = xi\n",
    "        steps[i, 1] = yi  \n",
    "        \n",
    "    return [xi, yi]"
   ]
  },
  {
   "cell_type": "code",
   "execution_count": null,
   "metadata": {},
   "outputs": [],
   "source": [
    "def SimpsonsIntegrate2arg(f, a, b, N):\n",
    "    dx = (b-a)/N\n",
    "    xi = a\n",
    "    area = 0\n",
    "    i = 0\n",
    "    y=0\n",
    "    while i < N:\n",
    "        area += dx/6*(f(xi,y) + 4*f((2*xi+dx)/2,y) + f(xi+dx,y))\n",
    "        \n",
    "        xi += dx\n",
    "        i += 1\n",
    "        \n",
    "    return area"
   ]
  },
  {
   "cell_type": "code",
   "execution_count": null,
   "metadata": {},
   "outputs": [],
   "source": [
    "print(RK4INT(f6, .01, 0, 0, 500))"
   ]
  },
  {
   "cell_type": "code",
   "execution_count": null,
   "metadata": {},
   "outputs": [],
   "source": [
    "print(SimpsonsIntegrate2arg(f6, 0, 5, 1000))"
   ]
  },
  {
   "cell_type": "code",
   "execution_count": null,
   "metadata": {},
   "outputs": [],
   "source": [
    "#As we see here for both come to approximately the same value"
   ]
  },
  {
   "cell_type": "markdown",
   "metadata": {},
   "source": [
    "## Submitting your assignment\n",
    "\n",
    "You should commit and push your work regularly to your GitHub repository. The tutors will grade your assignment directly from there onec the deadline passes."
   ]
  },
  {
   "cell_type": "code",
   "execution_count": null,
   "metadata": {},
   "outputs": [],
   "source": []
  }
 ],
 "metadata": {
  "kernelspec": {
   "display_name": "Python 3",
   "language": "python",
   "name": "python3"
  },
  "language_info": {
   "codemirror_mode": {
    "name": "ipython",
    "version": 3
   },
   "file_extension": ".py",
   "mimetype": "text/x-python",
   "name": "python",
   "nbconvert_exporter": "python",
   "pygments_lexer": "ipython3",
   "version": "3.8.5"
  }
 },
 "nbformat": 4,
 "nbformat_minor": 2
}
