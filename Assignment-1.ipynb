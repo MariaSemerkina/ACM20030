{
 "cells": [
  {
   "cell_type": "markdown",
   "metadata": {},
   "source": [
    "# Assignment 1\n",
    "\n",
    "### My final edit of assignment 1 \n",
    "### My name is Maria Semerkina and my Student Number : 20372036\n",
    "\n"
   ]
  },
  {
   "cell_type": "code",
   "execution_count": 4,
   "metadata": {},
   "outputs": [],
   "source": [
    "import numpy as np\n",
    "import matplotlib.pyplot as plt"
   ]
  },
  {
   "cell_type": "markdown",
   "metadata": {},
   "source": [
    "## Question 1\n",
    "### a) Write a function with signature VectorLength(x, y) that computes the length of a vector, v with components in cartesian coordinates (x, y). i.e. \n",
    "|v|=$\\sqrt{x^2+y^2}$  \n",
    "\n",
    "\n",
    "### Use NumPy for the square root function.\n"
   ]
  },
  {
   "cell_type": "code",
   "execution_count": 5,
   "metadata": {},
   "outputs": [],
   "source": [
    "## Part a) \n",
    "def VectorLength(x, y):\n",
    "    sum = np.sqrt((x**2)+(y**2))\n",
    "    return sum"
   ]
  },
  {
   "cell_type": "markdown",
   "metadata": {},
   "source": [
    "### b) Using the VectorLength(x, y) function print the length of vectors with components      v = (5, 6) and v = (-1, 5)"
   ]
  },
  {
   "cell_type": "code",
   "execution_count": 6,
   "metadata": {},
   "outputs": [
    {
     "data": {
      "text/plain": [
       "7.810249675906654"
      ]
     },
     "execution_count": 6,
     "metadata": {},
     "output_type": "execute_result"
    }
   ],
   "source": [
    "## Part b)\n",
    "VectorLength(5,6)"
   ]
  },
  {
   "cell_type": "code",
   "execution_count": 7,
   "metadata": {},
   "outputs": [
    {
     "data": {
      "text/plain": [
       "5.0990195135927845"
      ]
     },
     "execution_count": 7,
     "metadata": {},
     "output_type": "execute_result"
    }
   ],
   "source": [
    "VectorLength(-1,5)"
   ]
  },
  {
   "cell_type": "markdown",
   "metadata": {},
   "source": [
    "### c) Modify this command to print the result to only three decimal places"
   ]
  },
  {
   "cell_type": "code",
   "execution_count": 8,
   "metadata": {},
   "outputs": [
    {
     "name": "stdout",
     "output_type": "stream",
     "text": [
      "Sin(1) =0.841 \n"
     ]
    }
   ],
   "source": [
    "## Part c)\n",
    "print(\"Sin(1) = %.3f \"%np.sin(1))"
   ]
  },
  {
   "cell_type": "markdown",
   "metadata": {},
   "source": [
    "### d) Notebook was commited"
   ]
  },
  {
   "cell_type": "markdown",
   "metadata": {},
   "source": [
    "## Question 2\n",
    "\n",
    "### The following function claims to check if a number is prime\n",
    "### Copy it in to your Python Jupyter notebook.\n"
   ]
  },
  {
   "cell_type": "code",
   "execution_count": 9,
   "metadata": {},
   "outputs": [],
   "source": [
    "# Function to check if a number is prime\n",
    "def IsPrime(n):\n",
    "    i = 2\n",
    "    while i < np.sqrt(n):\n",
    "        #For each i check if it divides n\n",
    "        if(n % i == 0):\n",
    "            return 0\n",
    "        i += 1\n",
    "    # If no divisors are found, the number is prime\n",
    "    return 1"
   ]
  },
  {
   "cell_type": "markdown",
   "metadata": {},
   "source": [
    "### a) Does the function work correctly? Check the values from 1 to 10"
   ]
  },
  {
   "cell_type": "code",
   "execution_count": 10,
   "metadata": {},
   "outputs": [
    {
     "name": "stdout",
     "output_type": "stream",
     "text": [
      "1\n",
      "2\n",
      "3\n",
      "4\n",
      "5\n",
      "7\n",
      "9\n"
     ]
    }
   ],
   "source": [
    "## Part a) \n",
    "\n",
    "# Creating an array to check\n",
    "checkfunction= np.arange(1,11,1)\n",
    "# Making a loop to check every element in the array\n",
    "for el in checkfunction:\n",
    "    # Checking which prime numbers come out of the code\n",
    "    if IsPrime(el)==1:\n",
    "        # Printing out the prime numbers so we can see them\n",
    "        print(el)\n"
   ]
  },
  {
   "cell_type": "markdown",
   "metadata": {},
   "source": [
    "#### -As we can see here the code does not work as it considers numbers 1, 4 and 9 prime numbers when they are not"
   ]
  },
  {
   "cell_type": "code",
   "execution_count": 11,
   "metadata": {},
   "outputs": [],
   "source": [
    "## Part B)\n",
    "def IsPrime1(n):\n",
    "    # I have added if statement at the start so it checks\n",
    "    # if n=1 first\n",
    "    if n == 1:\n",
    "        return 0\n",
    "    i = 2\n",
    "    while i < np.sqrt(n):\n",
    "        #For each i check if it divides n\n",
    "        if(n % i == 0):\n",
    "            return 0\n",
    "        i += 1\n",
    "    # If no divisors are found, the number is prime\n",
    "    return 1\n"
   ]
  },
  {
   "cell_type": "code",
   "execution_count": 12,
   "metadata": {},
   "outputs": [
    {
     "name": "stdout",
     "output_type": "stream",
     "text": [
      "2\n",
      "3\n",
      "4\n",
      "5\n",
      "7\n",
      "9\n"
     ]
    }
   ],
   "source": [
    "# This code here is to check if edited IfPrime1 function\n",
    "# works for n=1 case\n",
    "for el in checkfunction:\n",
    "    if IsPrime1(el)==1:\n",
    "        print(el)\n"
   ]
  },
  {
   "cell_type": "markdown",
   "metadata": {},
   "source": [
    "#### -As you can see here above the added if statement has fixed the function, however we still have the added problem of 4 and 9."
   ]
  },
  {
   "cell_type": "code",
   "execution_count": 13,
   "metadata": {},
   "outputs": [
    {
     "data": {
      "text/plain": [
       "1"
      ]
     },
     "execution_count": 13,
     "metadata": {},
     "output_type": "execute_result"
    }
   ],
   "source": [
    "## Part C)\n",
    "\n",
    "def IsPrime2(n):\n",
    "    if n == 1:\n",
    "        return 0\n",
    "    i = 2\n",
    "    while i < np.sqrt(n):\n",
    "        if(n % i == 0):\n",
    "            # I have added the print function here to check where\n",
    "            # the function stops working\n",
    "            print(n)\n",
    "            return 0\n",
    "        i += 1\n",
    "    return 1\n",
    "\n",
    "IsPrime2(9)"
   ]
  },
  {
   "cell_type": "markdown",
   "metadata": {},
   "source": [
    "#### -As we can see here I added the print function in that spot as to see whether nine goes through the if statement or if the problme is with the while statement and as we can see the problem is with the while statement.\n",
    "#### -Looking at the while statement, if nine or four goes through the squareroot it equals i the dividing factor. This causes a problem as if i = 2 and it goes through the statement i < $\\sqrt{4}$ then it will return false and give four as a prime number, and the same applies to the number 9.\n"
   ]
  },
  {
   "cell_type": "markdown",
   "metadata": {},
   "source": [
    "#### -To fix this problem we can use <= to in the while statement so it fixes our problem of giving back false when comparing i < np.sqrt(n)."
   ]
  },
  {
   "cell_type": "code",
   "execution_count": 14,
   "metadata": {},
   "outputs": [],
   "source": [
    "def IsPrime3(n):\n",
    "    if n == 1:\n",
    "        return 0\n",
    "    i = 2\n",
    "    # Adding the <= here fixes our problem \n",
    "    while i <= np.sqrt(n):\n",
    "        if(n % i == 0):\n",
    "            return 0\n",
    "        i += 1\n",
    "    return 1"
   ]
  },
  {
   "cell_type": "code",
   "execution_count": 15,
   "metadata": {},
   "outputs": [
    {
     "name": "stdout",
     "output_type": "stream",
     "text": [
      "2\n",
      "3\n",
      "5\n",
      "7\n"
     ]
    }
   ],
   "source": [
    "# Checking here for whether our code works here now\n",
    "for el in checkfunction:\n",
    "    if IsPrime3(el)==1:\n",
    "        print(el)\n",
    "        "
   ]
  },
  {
   "cell_type": "markdown",
   "metadata": {},
   "source": [
    "### d) Notebook was commited "
   ]
  },
  {
   "cell_type": "markdown",
   "metadata": {},
   "source": [
    "### e) Using the corrected IsPrime( ) function, write a loop that calculates the number of  prime numbers less than 1000. Print the total number of primes less than 1000."
   ]
  },
  {
   "cell_type": "code",
   "execution_count": 16,
   "metadata": {},
   "outputs": [
    {
     "name": "stdout",
     "output_type": "stream",
     "text": [
      "This is the list of Prime numbers less than 1000 :\n",
      " [2, 3, 5, 7, 11, 13, 17, 19, 23, 29, 31, 37, 41, 43, 47, 53, 59, 61, 67, 71, 73, 79, 83, 89, 97, 101, 103, 107, 109, 113, 127, 131, 137, 139, 149, 151, 157, 163, 167, 173, 179, 181, 191, 193, 197, 199, 211, 223, 227, 229, 233, 239, 241, 251, 257, 263, 269, 271, 277, 281, 283, 293, 307, 311, 313, 317, 331, 337, 347, 349, 353, 359, 367, 373, 379, 383, 389, 397, 401, 409, 419, 421, 431, 433, 439, 443, 449, 457, 461, 463, 467, 479, 487, 491, 499, 503, 509, 521, 523, 541, 547, 557, 563, 569, 571, 577, 587, 593, 599, 601, 607, 613, 617, 619, 631, 641, 643, 647, 653, 659, 661, 673, 677, 683, 691, 701, 709, 719, 727, 733, 739, 743, 751, 757, 761, 769, 773, 787, 797, 809, 811, 821, 823, 827, 829, 839, 853, 857, 859, 863, 877, 881, 883, 887, 907, 911, 919, 929, 937, 941, 947, 953, 967, 971, 977, 983, 991, 997]\n",
      "\n",
      " The total number of primes less than 1000 is : 168\n"
     ]
    }
   ],
   "source": [
    "## Part e)\n",
    "number1000=np.arange(1,1000,1)\n",
    "# We use 1-1000 here  instead of 1001 \n",
    "#in this array as it says less than 1000\n",
    "primenum=[]\n",
    "for num in number1000:\n",
    "    if IsPrime3(num)==1:\n",
    "        primenum.append(num)\n",
    "print(\"This is the list of Prime numbers less than 1000 :\\n\",primenum)\n",
    "print(\"\\n The total number of primes less than 1000 is :\", len(primenum))   \n"
   ]
  },
  {
   "cell_type": "markdown",
   "metadata": {},
   "source": [
    "### f) The prime counting function, Pi(x)  is defined to be the number of primes less than or equal to x . By   using   your   answer   to   part   e)   write   a   function   with   signature PrimeCount(x) that computes Pi(x)."
   ]
  },
  {
   "cell_type": "code",
   "execution_count": 17,
   "metadata": {},
   "outputs": [],
   "source": [
    "def PrimeCount(x):\n",
    "    # I made a list to collect all the numbers\n",
    "    primelist=[]\n",
    "    for num in range(1,x+1):\n",
    "        # Using the range function as it gives from 1 to \n",
    "        #less than or equal to x\n",
    "        if IsPrime3(num)==1:\n",
    "            # Using the IsPrime3 function to compute the primes\n",
    "            primelist.append(num)\n",
    "            #This list appends them all and then using len()\n",
    "            # we can calculate the number of primes in the list\n",
    "    return (len(primelist))\n",
    "    \n"
   ]
  },
  {
   "cell_type": "code",
   "execution_count": 18,
   "metadata": {},
   "outputs": [
    {
     "name": "stdout",
     "output_type": "stream",
     "text": [
      "This is the number of primes less than or equal to 1000: 168\n",
      "This is the number of primes less than or equal to 10000: 1229\n"
     ]
    }
   ],
   "source": [
    "print(\"This is the number of primes less than or equal to 1000:\",PrimeCount(1000))\n",
    "print(\"This is the number of primes less than or equal to 10000:\",PrimeCount(10000))"
   ]
  },
  {
   "cell_type": "markdown",
   "metadata": {},
   "source": [
    "### g) The following code will plot the PrimeCounting function for values less than 40."
   ]
  },
  {
   "cell_type": "code",
   "execution_count": 19,
   "metadata": {},
   "outputs": [],
   "source": [
    "x = np.arange(0,40,1)\n",
    "Pi= np.zeros(40)\n",
    "i=0\n",
    "while i < np.size(Pi):\n",
    "    Pi[i] = PrimeCount(i)\n",
    "    i+=1"
   ]
  },
  {
   "cell_type": "markdown",
   "metadata": {},
   "source": [
    "### Copy it into your notebook and add a grid, an x-label ‘x’, and a y-label ‘Pi(x)’"
   ]
  },
  {
   "cell_type": "code",
   "execution_count": 20,
   "metadata": {},
   "outputs": [
    {
     "data": {
      "text/plain": [
       "Text(0.5, 1.0, 'PrimeCounting Function')"
      ]
     },
     "execution_count": 20,
     "metadata": {},
     "output_type": "execute_result"
    },
    {
     "data": {
      "image/png": "[encoded data removed]",
      "text/plain": [
       "<Figure size 432x288 with 1 Axes>"
      ]
     },
     "metadata": {
      "needs_background": "light"
     },
     "output_type": "display_data"
    }
   ],
   "source": [
    "plt.plot(x,Pi,'ro')\n",
    "\n",
    "plt.xlabel('x')\n",
    "plt.ylabel('Pi(x)')\n",
    "plt.grid(True)\n",
    "# I have added the following to make it look nicer\n",
    "plt.title('PrimeCounting Function')"
   ]
  },
  {
   "cell_type": "markdown",
   "metadata": {},
   "source": [
    "### h) Notebook was commited"
   ]
  },
  {
   "cell_type": "markdown",
   "metadata": {},
   "source": [
    "## Question 3\n",
    "\n",
    "### a) Download  the file  PowerLawOrExponential.txt  from  BrightSpace  and  save  it  into your  ACM20030-Assignments-2021-22  folder. Commit  this file  to  the  repository  and push the changes to GitHub.\n",
    "\n",
    "### b) Load the data using the np.loadtxt( ) function. Define an ‘x’ variable using the data in the first column, and a ‘y’ variable usage the data in the second column."
   ]
  },
  {
   "cell_type": "code",
   "execution_count": 21,
   "metadata": {},
   "outputs": [],
   "source": [
    "## Part b)\n",
    "data = np.loadtxt(\"/Users/mariasemerkina/Documents/GitHub/assignments-2021-22-MariaSemerkina/PowerLawOrExponential.txt\")"
   ]
  },
  {
   "cell_type": "code",
   "execution_count": 22,
   "metadata": {},
   "outputs": [],
   "source": [
    "# To add first column into x variable\n",
    "x= data[:,0]\n",
    "# To add second column into y variable\n",
    "y= data[:,1]\n"
   ]
  },
  {
   "cell_type": "markdown",
   "metadata": {},
   "source": [
    "### c) Make two plots showing the data on log and log-log scales. Make sure both plots are labelled and have a grid."
   ]
  },
  {
   "cell_type": "code",
   "execution_count": 23,
   "metadata": {},
   "outputs": [
    {
     "data": {
      "text/plain": [
       "Text(0, 0.5, 'y')"
      ]
     },
     "execution_count": 23,
     "metadata": {},
     "output_type": "execute_result"
    },
    {
     "data": {
      "image/png": "[encoded data removed]",
      "text/plain": [
       "<Figure size 432x288 with 1 Axes>"
      ]
     },
     "metadata": {
      "needs_background": "light"
     },
     "output_type": "display_data"
    }
   ],
   "source": [
    "# This is a log plot where we can see the exponential curve \n",
    "plt.title('Log Plot')\n",
    "plt.plot(x,y)\n",
    "plt.grid(True)\n",
    "plt.xlabel('x')\n",
    "plt.ylabel('y')"
   ]
  },
  {
   "cell_type": "code",
   "execution_count": 24,
   "metadata": {},
   "outputs": [
    {
     "data": {
      "text/plain": [
       "Text(0, 0.5, 'log(y)')"
      ]
     },
     "execution_count": 24,
     "metadata": {},
     "output_type": "execute_result"
    },
    {
     "data": {
      "image/png": "[encoded data removed]",
      "text/plain": [
       "<Figure size 432x288 with 1 Axes>"
      ]
     },
     "metadata": {
      "needs_background": "light"
     },
     "output_type": "display_data"
    }
   ],
   "source": [
    "# This curve is the Log-Log PLot as we can see the log cancels out \n",
    "# the exponential makes a straight line plot.\n",
    "plt.title('Log-Log Plot')\n",
    "plt.plot(np.log(x), np.log(y))\n",
    "plt.grid(True)\n",
    "plt.xlabel('log(x)')\n",
    "plt.ylabel('log(y)')"
   ]
  },
  {
   "cell_type": "markdown",
   "metadata": {},
   "source": [
    "### d) Is the data a discrete representation of the $x^n$ (power law) or $e^{nx}$  ? State why you have given the answer you have."
   ]
  },
  {
   "cell_type": "markdown",
   "metadata": {},
   "source": [
    "#### -The data above is a discrete representation of a Power Law ($x^n$) function as it looks straight on a log-log plot.\n",
    "#### -This means that $y=x^n$"
   ]
  },
  {
   "cell_type": "markdown",
   "metadata": {},
   "source": [
    "### e) By examining the plots, determine the value of $n$."
   ]
  },
  {
   "cell_type": "markdown",
   "metadata": {},
   "source": [
    "#### -Since above we proved this is a Power Law function we know that : $y=x^n$\n",
    "#### -From this we can use: $log(y)=nlog(x)$\n",
    "#### -This means we can use $n=log(y)/log(x)$ in order to determine the value of n, which is the slope.\n",
    "#### -Looking at the log-log graph, we can use rise over run to calculate n.\n",
    "#### -On the x-axis we can take 0-2 as the run\n",
    "#### -On the y-axis we can take from 0-4 as the rise\n",
    "#### -Then taking Rise/run we get: $4/2=2$\n",
    "#### -We now have $n=2$\n"
   ]
  },
  {
   "cell_type": "markdown",
   "metadata": {},
   "source": [
    "### f) Notebook was commited"
   ]
  },
  {
   "cell_type": "code",
   "execution_count": null,
   "metadata": {},
   "outputs": [],
   "source": []
  }
 ],
 "metadata": {
  "kernelspec": {
   "display_name": "Python 3",
   "language": "python",
   "name": "python3"
  },
  "language_info": {
   "codemirror_mode": {
    "name": "ipython",
    "version": 3
   },
   "file_extension": ".py",
   "mimetype": "text/x-python",
   "name": "python",
   "nbconvert_exporter": "python",
   "pygments_lexer": "ipython3",
   "version": "3.8.5"
  }
 },
 "nbformat": 4,
 "nbformat_minor": 4
}
